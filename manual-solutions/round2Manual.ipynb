{
 "cells": [
  {
   "cell_type": "code",
   "execution_count": 1,
   "metadata": {},
   "outputs": [],
   "source": [
    "import numpy as np\n",
    "\n",
    "multipliers = np.array([10, 17, 20, 31, 37, 50, 73, 80, 89, 90])\n",
    "fixed_inhabitants = np.array([1, 1, 2, 2, 3, 4, 4, 6, 8, 10])\n",
    "B = 10000"
   ]
  },
  {
   "cell_type": "code",
   "execution_count": 2,
   "metadata": {},
   "outputs": [],
   "source": [
    "def payoff(container, expected_players): # assuming probability of players take the container\n",
    "    return (B * multipliers[container]) / (fixed_inhabitants[container] + 100 * (expected_players / 10000))"
   ]
  },
  {
   "cell_type": "code",
   "execution_count": 7,
   "metadata": {},
   "outputs": [],
   "source": [
    "# find the percent players at each one so the payoffs are equal\n",
    "# payoff(i, p[i]) = payoff(i+1, p[i+1]) = payoff(i+2, p[i+2]) = ... = payoff(i+n, p[i+n])\n",
    "\n",
    "expected_player_counts = np.zeros(len(multipliers))\n",
    "for i in range(len(multipliers)):\n",
    "    expected_player_counts[i] = 10000 * (fixed_inhabitants[i] + 100 * (expected_player_counts[i] / 10000)) / (B * multipliers[i])\n",
    "    for j in range(i + 1, len(multipliers)):\n",
    "        expected_player_counts[j] = expected_player_counts[i]"
   ]
  },
  {
   "cell_type": "code",
   "execution_count": 10,
   "metadata": {},
   "outputs": [],
   "source": [
    "def find_equilibrium(multipliers, fixed_inhabitants, B, total_players):\n",
    "    \"\"\"\n",
    "    Finds a self-consistent distribution of players (e_i) such that\n",
    "    all containers in use have the same payoff and sum(e_i) = total_players.\n",
    "    Any container whose implied e_i is negative is excluded, and we repeat\n",
    "    until stable.\n",
    "    \"\"\"\n",
    "    n = len(multipliers)\n",
    "    # Start with all containers in the set S\n",
    "    S = set(range(n))\n",
    "    \n",
    "    while True:\n",
    "        # Sum of multipliers and fixed_inhabitants over the active set S\n",
    "        sum_multipliers = sum(multipliers[i] for i in S)\n",
    "        sum_fixed = sum(fixed_inhabitants[i] for i in S)\n",
    "\n",
    "        # Common payoff, call it P.  Derivation (for those interested):\n",
    "        # We want (B*multipliers[i]) / (fixed_inhabitants[i] + 100*(e_i/total_players)) = P for all i in S\n",
    "        # Also sum_i e_i = total_players. Solving leads to:\n",
    "        #    P = (100 * B * sum(multipliers[i] for i in S)) / [total_players + 100*sum_fixed]\n",
    "        P = (100.0 * B * sum_multipliers) / (total_players + 100.0 * sum_fixed)\n",
    "\n",
    "        # Compute new e_i for i in S\n",
    "        e = np.zeros(n)\n",
    "        for i in S:\n",
    "            # e_i = 100 * ((B*multipliers[i]) / P - fixed_inhabitants[i])\n",
    "            # because fixed_inhabitants[i] + 100*(e_i / total_players) = (B*multipliers[i]) / P\n",
    "            e[i] = 100.0 * (((B * multipliers[i]) / P) - fixed_inhabitants[i])\n",
    "\n",
    "        # Check if any are negative in S. If so, remove them and repeat.\n",
    "        negative_indices = [i for i in S if e[i] < -1e-9]  # tiny epsilon to allow for float error\n",
    "        if not negative_indices:\n",
    "            # No negatives => stable solution\n",
    "            return e, P\n",
    "        else:\n",
    "            # Remove the indices that went negative from S and try again\n",
    "            for i_neg in negative_indices:\n",
    "                S.remove(i_neg)"
   ]
  },
  {
   "cell_type": "code",
   "execution_count": 13,
   "metadata": {},
   "outputs": [],
   "source": [
    "def find_equilibrium1(multipliers, fixed_inhabitants, B, total_players):\n",
    "    \"\"\"\n",
    "    Finds a self-consistent distribution e_i (0 <= i < len(multipliers))\n",
    "    summing to `total_players` such that all containers actually used\n",
    "    (those with e_i > 0) have the same payoff.\n",
    "\n",
    "    The algorithm:\n",
    "      1) Start with S = all containers {0,1,...,9}.\n",
    "      2) Compute the common payoff P from the formula:\n",
    "         P = [100 * B * sum(multipliers in S)] / [total_players + 100 * sum(fixed_inhabitants in S)].\n",
    "      3) For each i in S, compute e_i = 100*((B*multipliers[i])/P - fixed_inhabitants[i]).\n",
    "         - If e_i < 0 for some i, remove i from S and go back to step 2.\n",
    "      4) Stop once all e_i >= 0 for i in S (no negative).\n",
    "         Containers not in S get e_i = 0.\n",
    "\n",
    "    Returns:\n",
    "       - e: np.array of length n, the equilibrium number of players in each container\n",
    "       - P: the common payoff for all containers in S\n",
    "    \"\"\"\n",
    "    n = len(multipliers)\n",
    "    S = set(range(n))  # Start by assuming all containers might be used\n",
    "\n",
    "    while True:\n",
    "        # If S is empty, no containers are used => trivial distribution\n",
    "        if not S:\n",
    "            return np.zeros(n), 0.0\n",
    "\n",
    "        # Sum of multipliers and fixed_inhabitants in the active set S\n",
    "        sum_m = sum(multipliers[i] for i in S)\n",
    "        sum_f = sum(fixed_inhabitants[i] for i in S)\n",
    "\n",
    "        # Common payoff\n",
    "        P = (100.0 * B * sum_m) / (total_players + 100.0 * sum_f)\n",
    "\n",
    "        # Calculate implied e_i for i in S\n",
    "        e = np.zeros(n, dtype=float)\n",
    "        negative_in_S = []\n",
    "        for i in S:\n",
    "            e[i] = 100.0 * ((B * multipliers[i]) / P - fixed_inhabitants[i])\n",
    "            if e[i] < 0:\n",
    "                negative_in_S.append(i)\n",
    "\n",
    "        # If any e_i < 0, remove those containers from S and repeat\n",
    "        if negative_in_S:\n",
    "            for i_neg in negative_in_S:\n",
    "                S.remove(i_neg)\n",
    "        else:\n",
    "            # We have a stable solution. By construction, sum(e_i)=10000 now.\n",
    "            return e, P"
   ]
  },
  {
   "cell_type": "code",
   "execution_count": 6,
   "metadata": {},
   "outputs": [],
   "source": [
    "def verify(percentages):\n",
    "    for i in range(len(percentages) - 1):\n",
    "        payoff1 = payoff(i, percentages[i])\n",
    "        payoff2 = payoff(i + 1, percentages[i + 1])\n",
    "        if not np.isclose(payoff1, payoff2):\n",
    "            print(f\"Payoff mismatch between container {i} and {i+1}: {payoff1} vs {payoff2}\")\n",
    "            return False\n",
    "    return True"
   ]
  },
  {
   "cell_type": "code",
   "execution_count": 9,
   "metadata": {},
   "outputs": [
    {
     "name": "stdout",
     "output_type": "stream",
     "text": [
      "Expected player counts for each container:\n",
      "Container 0: 0.10 players expected, payoff: 9090.91\n",
      "Container 1: 0.06 players expected, payoff: 24679.76\n",
      "Container 2: 0.10 players expected, payoff: 16662.58\n",
      "Container 3: 0.06 players expected, payoff: 36665.39\n",
      "Container 4: 0.08 players expected, payoff: 33303.77\n",
      "Container 5: 0.08 players expected, payoff: 41661.04\n",
      "Container 6: 0.05 players expected, payoff: 76999.77\n",
      "Container 7: 0.08 players expected, payoff: 59256.25\n",
      "Container 8: 0.09 players expected, payoff: 52384.97\n",
      "Container 9: 0.11 players expected, payoff: 42629.56\n",
      "Verifying payoffs...\n",
      "Payoff mismatch between container 0 and 1: 9090.90909090909 vs 24679.760888129804\n",
      "Payoff verification failed.\n"
     ]
    }
   ],
   "source": [
    "print(\"Expected player counts for each container:\")\n",
    "for i in range(len(multipliers)):\n",
    "    print(f\"Container {i}: {expected_player_counts[i]:.2f} players expected, payoff: {payoff(i, expected_player_counts[i]):.2f}\")\n",
    "print(\"Verifying payoffs...\")\n",
    "if verify(expected_player_counts):\n",
    "    print(\"Payoffs verified successfully!\")\n",
    "else:\n",
    "    print(\"Payoff verification failed.\")"
   ]
  },
  {
   "cell_type": "code",
   "execution_count": 19,
   "metadata": {},
   "outputs": [
    {
     "name": "stdout",
     "output_type": "stream",
     "text": [
      "Equilibrium distribution (expected_player_counts):\n",
      "[ 183.70221328  382.29376258  367.40442656  679.47686117  749.69818913\n",
      " 1018.5110664  1671.02615694 1669.61770624 1724.94969819 1553.31991952]\n",
      "\n",
      "Common payoff among containers with positive population: 35248.22695035461\n",
      "\n",
      "Sum of players: 9999.999999999998\n",
      "Payoffs per container (for reference):\n",
      "Container 0: payoff = 5.4433\n",
      "Container 1: payoff = 4.4467\n",
      "Container 2: payoff = 5.4433\n",
      "Container 3: payoff = 4.5622\n",
      "Container 4: payoff = 4.9351\n",
      "Container 5: payoff = 4.9089\n",
      "Container 6: payoff = 4.3685\n",
      "Container 7: payoff = 4.7913\n",
      "Container 8: payoff = 5.1593\n",
      "Container 9: payoff = 5.7937\n"
     ]
    }
   ],
   "source": [
    "expected_player_counts, common_payoff = find_equilibrium1(\n",
    "    multipliers, fixed_inhabitants, B, 10000\n",
    ")\n",
    "\n",
    "# Print the results\n",
    "print(\"Equilibrium distribution (expected_player_counts):\")\n",
    "print(expected_player_counts)\n",
    "\n",
    "print(\"\\nCommon payoff among containers with positive population:\", common_payoff)\n",
    "\n",
    "# Check that sum is indeed 10,000 (within floating error)\n",
    "print(\"\\nSum of players:\", np.sum(expected_player_counts))\n",
    "print(\"Payoffs per container (for reference):\")\n",
    "for i in range(len(multipliers)):\n",
    "    if expected_player_counts[i] > 1e-9:\n",
    "        print(f\"Container {i}: payoff = {payoff(i, expected_player_counts[i]):.4f}\")\n",
    "    else:\n",
    "        print(f\"Container {i}: (not used, payoff if chosen = {payoff(i, 0):.4f})\")"
   ]
  },
  {
   "cell_type": "code",
   "execution_count": 20,
   "metadata": {},
   "outputs": [
    {
     "data": {
      "text/plain": [
       "35248.22695035461"
      ]
     },
     "execution_count": 20,
     "metadata": {},
     "output_type": "execute_result"
    }
   ],
   "source": [
    "10000*497/(41+100)"
   ]
  },
  {
   "cell_type": "code",
   "execution_count": 26,
   "metadata": {},
   "outputs": [],
   "source": [
    "multipliers = np.array([10, 17, 20, 31, 37, 50, 73, 80, 89, 90])\n",
    "fixed_inhabitants = np.array([1, 1, 2, 2, 3, 4, 4, 6, 8, 10])\n",
    "BASE = 10000\n",
    "POPULATION = 10000"
   ]
  },
  {
   "cell_type": "code",
   "execution_count": 22,
   "metadata": {},
   "outputs": [],
   "source": [
    "def payoff(container, expected_players): # assuming probability of players take the container\n",
    "    return (B * multipliers[container]) / (fixed_inhabitants[container] + 100 * (expected_players / 10000))"
   ]
  },
  {
   "cell_type": "code",
   "execution_count": 27,
   "metadata": {},
   "outputs": [
    {
     "name": "stdout",
     "output_type": "stream",
     "text": [
      "35248.22695035461\n"
     ]
    }
   ],
   "source": [
    "sum_multipliers = sum(multipliers)\n",
    "sum_fixed = sum(fixed_inhabitants)\n",
    "PAYOFF_EACH = (BASE * sum_multipliers) / (sum_fixed + 100)\n",
    "print(PAYOFF_EACH)"
   ]
  },
  {
   "cell_type": "code",
   "execution_count": 31,
   "metadata": {},
   "outputs": [],
   "source": [
    "def get_population_count(container):\n",
    "    outside = POPULATION / 100\n",
    "    inside = BASE * multipliers[container] / PAYOFF_EACH\n",
    "    inside = inside - fixed_inhabitants[container]\n",
    "    count = inside * outside\n",
    "    return count"
   ]
  },
  {
   "cell_type": "code",
   "execution_count": 33,
   "metadata": {},
   "outputs": [],
   "source": [
    "def population_percentage(container):\n",
    "    return get_population_count(container) / POPULATION"
   ]
  },
  {
   "cell_type": "code",
   "execution_count": 35,
   "metadata": {},
   "outputs": [
    {
     "name": "stdout",
     "output_type": "stream",
     "text": [
      "Container 0 1.8370221327967804: 183.70 players expected, payoff: 35248.23\n",
      "Container 1 3.8229376257545264: 382.29 players expected, payoff: 35248.23\n",
      "Container 2 3.674044265593561: 367.40 players expected, payoff: 35248.23\n",
      "Container 3 6.794768611670018: 679.48 players expected, payoff: 35248.23\n",
      "Container 4 7.4969818913480895: 749.70 players expected, payoff: 35248.23\n",
      "Container 5 10.185110663983902: 1018.51 players expected, payoff: 35248.23\n",
      "Container 6 16.7102615694165: 1671.03 players expected, payoff: 35248.23\n",
      "Container 7 16.696177062374243: 1669.62 players expected, payoff: 35248.23\n",
      "Container 8 17.249496981891348: 1724.95 players expected, payoff: 35248.23\n",
      "Container 9 15.533199195171028: 1553.32 players expected, payoff: 35248.23\n"
     ]
    }
   ],
   "source": [
    "for i in range(len(multipliers)):\n",
    "    print(f\"Container {i} {population_percentage(i) * 100}: {get_population_count(i):.2f} players expected, payoff: {payoff(i, get_population_count(i)):.2f}\")"
   ]
  },
  {
   "cell_type": "code",
   "execution_count": 39,
   "metadata": {},
   "outputs": [],
   "source": [
    "def pick_weighted_random_container():\n",
    "    \"\"\"\n",
    "    Pick a container based on the population percentage.\n",
    "    \"\"\"\n",
    "    population_percentages = np.array([population_percentage(i) for i in range(len(multipliers))])\n",
    "    container = np.random.choice(len(multipliers), p=population_percentages)\n",
    "    return container"
   ]
  },
  {
   "cell_type": "code",
   "execution_count": 40,
   "metadata": {},
   "outputs": [
    {
     "data": {
      "text/plain": [
       "7"
      ]
     },
     "execution_count": 40,
     "metadata": {},
     "output_type": "execute_result"
    }
   ],
   "source": [
    "pick_weighted_random_container()"
   ]
  },
  {
   "cell_type": "code",
   "execution_count": 42,
   "metadata": {},
   "outputs": [
    {
     "data": {
      "image/png": "[encoded data removed]",
      "text/plain": [
       "<Figure size 1000x600 with 1 Axes>"
      ]
     },
     "metadata": {},
     "output_type": "display_data"
    }
   ],
   "source": [
    "population_percentages = np.array([population_percentage(i) for i in range(len(multipliers))])\n",
    "\n",
    "# plot the population_percentages\n",
    "import matplotlib.pyplot as plt\n",
    "plt.figure(figsize=(10, 6))\n",
    "plt.bar(range(len(multipliers)), population_percentages * 100, color='skyblue')\n",
    "plt.xlabel('Container Index')\n",
    "plt.ylabel('Population Percentage (%)')\n",
    "plt.title('Population Percentage in Each Container')\n",
    "plt.xticks(range(len(multipliers)), [f'Container {i}' for i in range(len(multipliers))])\n",
    "plt.ylim(0, 100)\n",
    "plt.axhline(y=0, color='k', linestyle='--')\n",
    "plt.grid(axis='y', linestyle='--')\n",
    "plt.tight_layout()\n",
    "plt.show()"
   ]
  },
  {
   "cell_type": "markdown",
   "metadata": {},
   "source": [
    "# Psychological notes\n",
    "1. Overselection of High-Multiplier Containers (80x–90x)\n",
    "Why:\n",
    "\n",
    "Greed bias: Even rational players are drawn to potential large payoffs.\n",
    "\n",
    "Cognitive salience: 90x is the max — it feels special.\n",
    "\n",
    "Risk-seeking under competition: If players think they won't win by playing it safe, they may \"swing big.\"\n",
    "\n",
    "Effect:\n",
    "These containers (especially 89x and 90x) may be chosen more frequently than NE predicts, diluting their actual payoff substantially — possibly beyond what players realize.\n",
    "\n",
    "2. Underselection of Mid-Multiplier, Low-Inhabitant Containers (e.g., 17x–37x)\n",
    "Why:\n",
    "\n",
    "Lack of intuitive appeal: They don’t feel like “great deals.”\n",
    "\n",
    "Too balanced: These are often NE sweet spots, but are ignored in favor of more “obviously good” or “obviously bad” options.\n",
    "\n",
    "People dislike picking ‘meh’ options even if optimal.\n",
    "\n",
    "Effect:\n",
    "These might end up being more profitable than NE predicts, because fewer people select them due to psychological underweighting.\n",
    "\n",
    "3. Anchoring & Round Number Bias\n",
    "Why:\n",
    "\n",
    "Players gravitate toward nice round numbers like 10x, 50x, 90x.\n",
    "\n",
    "Containers like 31x or 73x might be neglected for being “weird.”\n",
    "\n",
    "Effect:\n",
    "Expect an uptick in choices for 10x, 50x, and 90x — even if not justified — and a drop for 31x, 73x.\n",
    "\n",
    "4. Misunderstanding of the Denominator Effect\n",
    "Why:\n",
    "\n",
    "Even smart players may misestimate how percentage usage (10% = 1000 players) dominates the denominator.\n",
    "\n",
    "They may underestimate how quickly reward gets diluted, especially in high-multiplier crates.\n",
    "\n",
    "Effect:\n",
    "Overcrowding of high-multiplier crates, even when mathematically unjustified.\n",
    "\n",
    "5. Herding Effects\n",
    "Why:\n",
    "\n",
    "Even in a simultaneous setting, players will try to second-guess the crowd.\n",
    "\n",
    "Some players may meta-game and assume “everyone will avoid 90x because it’s too obvious,” so they go for it anyway.\n",
    "\n",
    "Effect:\n",
    "Irrational overcrowding on “meta-attractive” crates, particularly 50x, 73x, and 80x.\n",
    "\n",
    "6. Overselection of First/Last Options\n",
    "Why:\n",
    "\n",
    "UI bias / primacy/recency effects — people often choose top-listed or bottom-listed entries, especially under time pressure.\n",
    "\n",
    "Effect:\n",
    "Expect 10x and 90x to be overselected.\n",
    "\n",
    "7. Limited Randomization\n",
    "Why:\n",
    "\n",
    "Humans are bad at producing or following truly randomized distributions.\n",
    "\n",
    "Even when trying to play a mixed strategy, people often favor a few containers “they like” and just rotate.\n",
    "\n",
    "Effect:\n",
    "NE mixed strategies will be poorly approximated, favoring predictability over true randomness.\n",
    "\n",
    "How to Leverage These Deviations\n",
    "If you're trying to outperform the field, your edge lies in:\n",
    "\n",
    "Identifying the underpicked NE-optimal containers (e.g., 31x or 37x if they’re underused),\n",
    "\n",
    "Avoiding high-multiplier traps (like 89x/90x if overused),\n",
    "\n",
    "Exploiting meta-misperceptions, like the idea that “no one will pick 50x because it’s too obvious.”"
   ]
  },
  {
   "cell_type": "markdown",
   "metadata": {},
   "source": [
    "# Shorter\n",
    "How Real Players Deviate from Nash Equilibrium\n",
    "Overpick high-multiplier crates (80x–90x)\n",
    "→ Greed, salience, and “go big” mentality lead to overcrowding.\n",
    "\n",
    "Underpick mid-multiplier crates (17x–37x)\n",
    "→ They feel “meh” or unexciting, even if optimal.\n",
    "\n",
    "Bias toward round numbers\n",
    "→ 10x, 50x, 90x attract attention; 31x, 73x get overlooked.\n",
    "\n",
    "Poor grasp of denominator mechanics\n",
    "→ Players underestimate how fast large crates get diluted.\n",
    "\n",
    "Limited randomness in mixed strategies\n",
    "→ Players rotate favorites instead of properly randomizing.\n",
    "\n",
    "# Containers with Psychological Edge vs Nash Prediction:\n",
    "Underrated (Likely better than NE suggests):\n",
    "17x, 31x, 37x\n",
    "\n",
    "Overrated (Worse than NE suggests due to overcrowding):\n",
    "50x, 80x, 89x, 90x\n",
    "\n",
    "Wildcard:\n",
    "10x may be overpicked simply for being first or “safe.”\n",
    "\n",
    "Want help recalculating expected values assuming biased behavior?"
   ]
  }
 ],
 "metadata": {
  "kernelspec": {
   "display_name": "env",
   "language": "python",
   "name": "python3"
  },
  "language_info": {
   "codemirror_mode": {
    "name": "ipython",
    "version": 3
   },
   "file_extension": ".py",
   "mimetype": "text/x-python",
   "name": "python",
   "nbconvert_exporter": "python",
   "pygments_lexer": "ipython3",
   "version": "3.12.1"
  }
 },
 "nbformat": 4,
 "nbformat_minor": 2
}
