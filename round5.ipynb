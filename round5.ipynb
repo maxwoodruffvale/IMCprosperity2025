{
 "cells": [
  {
   "cell_type": "markdown",
   "metadata": {},
   "source": [
    "# wiki\n",
    "You’ve been invited to trade on the exchange of the West Archipelago for one day only. An exclusive event and perfect opportunity to make some big final profits before the champion is crowned. Benny the Bull has granted you access to his most trusted news source: Goldberg. You’ll find all the information you need right there. Be aware that trading these foreign goods comes at a price. The more you trade in one good, the more expensive it will get. This is the final stretch. Make it count! "
   ]
  },
  {
   "cell_type": "markdown",
   "metadata": {},
   "source": [
    "# dashboard\n",
    "Benny the Bull has invited us to trade on the West Archipelago Exchange for one day. You have the opportunity to trade all sorts of new goods against yesterday's prices, just in time before the exchange opens for a new day. In order to get up to speed with their current market dynamics, they have granted you access to their most valuable news source: Goldberg.\n",
    "\n",
    "Your objective is to develop a trading strategy that maximizes your profit. You have 1.000.000 SeaShells available as trading capital and can choose to either buy or sell different goods. Specify the percentage you want to buy or sell for, and make sure it doesn’t exceed your total available capital. Note that there are fees involved in these trades. The more you trade in one good, the higher the fee for that good will be.\n",
    "\n",
    "Note that you can (re)submit new strategies as long as the round is still in progress. As soon as the round ends, the trading strategy that was submitted last will be processed.\n"
   ]
  },
  {
   "cell_type": "markdown",
   "metadata": {},
   "source": [
    "# goldberg iceberd\n",
    "The Economic Express, the fastest steam train in our archipelago, went off track this morning. The incident occurred in a wide-open field and caused no material damage. However, getting the train back on track is expected to take significant effort and time. Investigators at the scene quickly identified the cause of the derailment:\n",
    "\"There is no doubt that the Cacti Needle Rail Spikes are to blame.\" What was once hailed as the greatest innovation of recent decades has turned out to be a small flaw with massive consequences. Experts now warn that the railway across the entire archipelago may need to be inspected inch by inch to ensure every CNRS is replaced with sturdy steel rail spikes.\n",
    "\n"
   ]
  },
  {
   "cell_type": "markdown",
   "metadata": {},
   "source": [
    "# notes\n",
    "goldberg news\n",
    "- cactus spikes need to be replaced because of the fallen train\n",
    "- coffe overstimulates nervous system, potential immediate ban\n",
    "- ranch sauce is popular, sisters sell fixed price stock to saloon, special edition ranch bottle otw\n",
    "- 8.4% tax increase on solar panesl effective tmrw\n",
    "- incorrect moonshine ceo trying to polish moon, planning next expedition\n",
    "- haystack value falling (too much supply). potential rare pearl needles found -> could be uptick\n",
    "- red flag trading company in ruins, red flags will be reprinted in coming months or longer\n",
    "- black and yellow trend prediction\n",
    "- quick draw videogame -> 800k to 4.6 million players\n",
    "\n",
    "parrot news\n",
    "- more trade in one good, more cost\n",
    "\n",
    "discord\n",
    "- fee decuted at the end of a trading round\n",
    "- only pnl is added, you cant keep the 1mil\n",
    "- looking at how the company will change the price of the good\n",
    "\n"
   ]
  },
  {
   "cell_type": "code",
   "execution_count": 4,
   "metadata": {},
   "outputs": [
    {
     "name": "stdout",
     "output_type": "stream",
     "text": [
      "Requirement already satisfied: wolframclient in ./env/lib/python3.12/site-packages (1.4.0)\n",
      "Requirement already satisfied: numpy in ./env/lib/python3.12/site-packages (from wolframclient) (2.2.4)\n",
      "Requirement already satisfied: pytz in ./env/lib/python3.12/site-packages (from wolframclient) (2025.2)\n",
      "Requirement already satisfied: requests in ./env/lib/python3.12/site-packages (from wolframclient) (2.32.3)\n",
      "Requirement already satisfied: aiohttp in ./env/lib/python3.12/site-packages (from wolframclient) (3.11.18)\n",
      "Requirement already satisfied: oauthlib in ./env/lib/python3.12/site-packages (from wolframclient) (3.2.2)\n",
      "Requirement already satisfied: pyzmq in ./env/lib/python3.12/site-packages (from wolframclient) (26.4.0)\n",
      "Requirement already satisfied: certifi>=2017.4.17 in ./env/lib/python3.12/site-packages (from wolframclient) (2025.1.31)\n",
      "Requirement already satisfied: aiohappyeyeballs>=2.3.0 in ./env/lib/python3.12/site-packages (from aiohttp->wolframclient) (2.6.1)\n",
      "Requirement already satisfied: aiosignal>=1.1.2 in ./env/lib/python3.12/site-packages (from aiohttp->wolframclient) (1.3.2)\n",
      "Requirement already satisfied: attrs>=17.3.0 in ./env/lib/python3.12/site-packages (from aiohttp->wolframclient) (25.3.0)\n",
      "Requirement already satisfied: frozenlist>=1.1.1 in ./env/lib/python3.12/site-packages (from aiohttp->wolframclient) (1.6.0)\n",
      "Requirement already satisfied: multidict<7.0,>=4.5 in ./env/lib/python3.12/site-packages (from aiohttp->wolframclient) (6.4.3)\n",
      "Requirement already satisfied: propcache>=0.2.0 in ./env/lib/python3.12/site-packages (from aiohttp->wolframclient) (0.3.1)\n",
      "Requirement already satisfied: yarl<2.0,>=1.17.0 in ./env/lib/python3.12/site-packages (from aiohttp->wolframclient) (1.20.0)\n",
      "Requirement already satisfied: charset-normalizer<4,>=2 in ./env/lib/python3.12/site-packages (from requests->wolframclient) (3.4.1)\n",
      "Requirement already satisfied: idna<4,>=2.5 in ./env/lib/python3.12/site-packages (from requests->wolframclient) (3.10)\n",
      "Requirement already satisfied: urllib3<3,>=1.21.1 in ./env/lib/python3.12/site-packages (from requests->wolframclient) (2.3.0)\n",
      "\n",
      "\u001b[1m[\u001b[0m\u001b[34;49mnotice\u001b[0m\u001b[1;39;49m]\u001b[0m\u001b[39;49m A new release of pip is available: \u001b[0m\u001b[31;49m23.2.1\u001b[0m\u001b[39;49m -> \u001b[0m\u001b[32;49m25.0.1\u001b[0m\n",
      "\u001b[1m[\u001b[0m\u001b[34;49mnotice\u001b[0m\u001b[1;39;49m]\u001b[0m\u001b[39;49m To update, run: \u001b[0m\u001b[32;49mpip install --upgrade pip\u001b[0m\n",
      "Collecting cvxpy\n",
      "  Obtaining dependency information for cvxpy from https://files.pythonhosted.org/packages/30/ae/4acbab3ab701ec0873d54c2d704472cbbbe58d29090f28685ad1df4028ae/cvxpy-1.6.5-cp312-cp312-macosx_10_13_universal2.whl.metadata\n",
      "  Downloading cvxpy-1.6.5-cp312-cp312-macosx_10_13_universal2.whl.metadata (9.3 kB)\n",
      "Collecting osqp>=0.6.2 (from cvxpy)\n",
      "  Obtaining dependency information for osqp>=0.6.2 from https://files.pythonhosted.org/packages/24/5e/dd6a71c17785632fc8004257fb1f2a264bf425d833d3c5948f3374267e41/osqp-1.0.3-cp312-cp312-macosx_11_0_arm64.whl.metadata\n",
      "  Downloading osqp-1.0.3-cp312-cp312-macosx_11_0_arm64.whl.metadata (2.1 kB)\n",
      "Collecting clarabel>=0.5.0 (from cvxpy)\n",
      "  Obtaining dependency information for clarabel>=0.5.0 from https://files.pythonhosted.org/packages/0a/18/a537f020338349943db49afb305a75e8d41ba9b1383df6341bde8decfde7/clarabel-0.10.0-cp39-abi3-macosx_10_12_x86_64.macosx_11_0_arm64.macosx_10_12_universal2.whl.metadata\n",
      "  Downloading clarabel-0.10.0-cp39-abi3-macosx_10_12_x86_64.macosx_11_0_arm64.macosx_10_12_universal2.whl.metadata (4.8 kB)\n",
      "Collecting scs>=3.2.4.post1 (from cvxpy)\n",
      "  Obtaining dependency information for scs>=3.2.4.post1 from https://files.pythonhosted.org/packages/33/2a/f807b0f9dd108c9c75c4d12692803d687be7bd32c91dbfd7213837b3b6ed/scs-3.2.7.post2-cp312-cp312-macosx_11_0_arm64.whl.metadata\n",
      "  Downloading scs-3.2.7.post2-cp312-cp312-macosx_11_0_arm64.whl.metadata (2.1 kB)\n",
      "Requirement already satisfied: numpy>=1.21.6 in ./env/lib/python3.12/site-packages (from cvxpy) (2.2.4)\n",
      "Requirement already satisfied: scipy>=1.11.0 in ./env/lib/python3.12/site-packages (from cvxpy) (1.15.2)\n",
      "Collecting jinja2 (from osqp>=0.6.2->cvxpy)\n",
      "  Obtaining dependency information for jinja2 from https://files.pythonhosted.org/packages/62/a1/3d680cbfd5f4b8f15abc1d571870c5fc3e594bb582bc3b64ea099db13e56/jinja2-3.1.6-py3-none-any.whl.metadata\n",
      "  Downloading jinja2-3.1.6-py3-none-any.whl.metadata (2.9 kB)\n",
      "Collecting setuptools (from osqp>=0.6.2->cvxpy)\n",
      "  Obtaining dependency information for setuptools from https://files.pythonhosted.org/packages/cc/ea/d53f2f8897c46a36df085964d07761ea4c2d1f2cf92019693b6742b7aabb/setuptools-79.0.0-py3-none-any.whl.metadata\n",
      "  Using cached setuptools-79.0.0-py3-none-any.whl.metadata (6.5 kB)\n",
      "Collecting joblib (from osqp>=0.6.2->cvxpy)\n",
      "  Obtaining dependency information for joblib from https://files.pythonhosted.org/packages/91/29/df4b9b42f2be0b623cbd5e2140cafcaa2bef0759a00b7b70104dcfe2fb51/joblib-1.4.2-py3-none-any.whl.metadata\n",
      "  Using cached joblib-1.4.2-py3-none-any.whl.metadata (5.4 kB)\n",
      "Collecting MarkupSafe>=2.0 (from jinja2->osqp>=0.6.2->cvxpy)\n",
      "  Obtaining dependency information for MarkupSafe>=2.0 from https://files.pythonhosted.org/packages/6b/b0/18f76bba336fa5aecf79d45dcd6c806c280ec44538b3c13671d49099fdd0/MarkupSafe-3.0.2-cp312-cp312-macosx_11_0_arm64.whl.metadata\n",
      "  Using cached MarkupSafe-3.0.2-cp312-cp312-macosx_11_0_arm64.whl.metadata (4.0 kB)\n",
      "Downloading cvxpy-1.6.5-cp312-cp312-macosx_10_13_universal2.whl (1.5 MB)\n",
      "\u001b[2K   \u001b[90m━━━━━━━━━━━━━━━━━━━━━━━━━━━━━━━━━━━━━━━━\u001b[0m \u001b[32m1.5/1.5 MB\u001b[0m \u001b[31m13.9 MB/s\u001b[0m eta \u001b[36m0:00:00\u001b[0ma \u001b[36m0:00:01\u001b[0m\n",
      "\u001b[?25hDownloading clarabel-0.10.0-cp39-abi3-macosx_10_12_x86_64.macosx_11_0_arm64.macosx_10_12_universal2.whl (1.7 MB)\n",
      "\u001b[2K   \u001b[90m━━━━━━━━━━━━━━━━━━━━━━━━━━━━━━━━━━━━━━━━\u001b[0m \u001b[32m1.7/1.7 MB\u001b[0m \u001b[31m14.9 MB/s\u001b[0m eta \u001b[36m0:00:00\u001b[0m00:01\u001b[0m00:01\u001b[0m\n",
      "\u001b[?25hDownloading osqp-1.0.3-cp312-cp312-macosx_11_0_arm64.whl (290 kB)\n",
      "\u001b[2K   \u001b[90m━━━━━━━━━━━━━━━━━━━━━━━━━━━━━━━━━━━━━━━━\u001b[0m \u001b[32m290.6/290.6 kB\u001b[0m \u001b[31m10.6 MB/s\u001b[0m eta \u001b[36m0:00:00\u001b[0m\n",
      "\u001b[?25hDownloading scs-3.2.7.post2-cp312-cp312-macosx_11_0_arm64.whl (93 kB)\n",
      "\u001b[2K   \u001b[90m━━━━━━━━━━━━━━━━━━━━━━━━━━━━━━━━━━━━━━━━\u001b[0m \u001b[32m93.5/93.5 kB\u001b[0m \u001b[31m8.0 MB/s\u001b[0m eta \u001b[36m0:00:00\u001b[0m\n",
      "\u001b[?25hDownloading jinja2-3.1.6-py3-none-any.whl (134 kB)\n",
      "\u001b[2K   \u001b[90m━━━━━━━━━━━━━━━━━━━━━━━━━━━━━━━━━━━━━━━━\u001b[0m \u001b[32m134.9/134.9 kB\u001b[0m \u001b[31m10.5 MB/s\u001b[0m eta \u001b[36m0:00:00\u001b[0m\n",
      "\u001b[?25hUsing cached joblib-1.4.2-py3-none-any.whl (301 kB)\n",
      "Using cached setuptools-79.0.0-py3-none-any.whl (1.3 MB)\n",
      "Using cached MarkupSafe-3.0.2-cp312-cp312-macosx_11_0_arm64.whl (12 kB)\n",
      "Installing collected packages: setuptools, MarkupSafe, joblib, scs, jinja2, clarabel, osqp, cvxpy\n",
      "Successfully installed MarkupSafe-3.0.2 clarabel-0.10.0 cvxpy-1.6.5 jinja2-3.1.6 joblib-1.4.2 osqp-1.0.3 scs-3.2.7.post2 setuptools-79.0.0\n",
      "\n",
      "\u001b[1m[\u001b[0m\u001b[34;49mnotice\u001b[0m\u001b[1;39;49m]\u001b[0m\u001b[39;49m A new release of pip is available: \u001b[0m\u001b[31;49m23.2.1\u001b[0m\u001b[39;49m -> \u001b[0m\u001b[32;49m25.0.1\u001b[0m\n",
      "\u001b[1m[\u001b[0m\u001b[34;49mnotice\u001b[0m\u001b[1;39;49m]\u001b[0m\u001b[39;49m To update, run: \u001b[0m\u001b[32;49mpip install --upgrade pip\u001b[0m\n"
     ]
    }
   ],
   "source": [
    "!pip install wolframclient\n",
    "!pip install cvxpy\n",
    "from wolframclient.evaluation import WolframLanguageSession\n",
    "from wolframclient.language import wl, wlexpr\n",
    "import numpy as np\n",
    "import cvxpy as cp"
   ]
  },
  {
   "cell_type": "code",
   "execution_count": 5,
   "metadata": {},
   "outputs": [],
   "source": [
    "# fee = 0.120 * x^2 (x is the percent, 4% is 4)\n",
    "\n",
    "sentiments = {\n",
    "    'Haystacks': -4,\n",
    "    'Ranch sauce': 3,\n",
    "    'Cacti Needle': -5,\n",
    "    'Solar Panels': 5,\n",
    "    'Red Flags': 4,\n",
    "    'VR Monocle': 4,\n",
    "    'Quantum Coffee': -5,\n",
    "    'Moonshine': 1,\n",
    "    'Striped Shirts': 2\n",
    "}\n",
    "\n",
    "returns = {\n",
    "    1: 0.05,\n",
    "    2: 0.15,\n",
    "    3: 0.25,\n",
    "    4: 0.35,\n",
    "    5: 0.4,\n",
    "    -1: -0.05,\n",
    "    -2: -0.1,\n",
    "    -3: -0.4,\n",
    "    -4: -0.6,\n",
    "    -5: -0.7,\n",
    "}\n",
    "\n",
    "products = list(sentiments.keys())"
   ]
  },
  {
   "cell_type": "code",
   "execution_count": null,
   "metadata": {},
   "outputs": [],
   "source": []
  }
 ],
 "metadata": {
  "kernelspec": {
   "display_name": "env",
   "language": "python",
   "name": "python3"
  },
  "language_info": {
   "codemirror_mode": {
    "name": "ipython",
    "version": 3
   },
   "file_extension": ".py",
   "mimetype": "text/x-python",
   "name": "python",
   "nbconvert_exporter": "python",
   "pygments_lexer": "ipython3",
   "version": "3.12.1"
  }
 },
 "nbformat": 4,
 "nbformat_minor": 2
}
